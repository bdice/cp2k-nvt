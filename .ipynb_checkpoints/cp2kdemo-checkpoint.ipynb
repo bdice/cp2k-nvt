{
 "cells": [
  {
   "cell_type": "code",
   "execution_count": 1,
   "metadata": {},
   "outputs": [],
   "source": [
    "#First load the mosdef36 environment\n",
    "# This workflow uses signac, and mbuild\n",
    "# install CSSI-CP2K by cd CSSI-CP2K and then pip install -e ."
   ]
  },
  {
   "cell_type": "code",
   "execution_count": 2,
   "metadata": {},
   "outputs": [],
   "source": [
    "!python init.py  # initializes the workspace, according to the file iodine.inp, you can look into workspace folder "
   ]
  },
  {
   "cell_type": "code",
   "execution_count": 4,
   "metadata": {},
   "outputs": [
    {
     "name": "stdout",
     "output_type": "stream",
     "text": [
      "HOME: /Users/rs/Documents/research/signac/cp2k/iodine/workspace/5d0a71cf0b09209e7fd73dbdc68e8c0a\n",
      "HOME: /Users/rs/Documents/research/signac/cp2k/iodine/workspace/9afc385a608b38eef99c48ee3699f312\n"
     ]
    }
   ],
   "source": [
    "!python write_inp.py #writes all the input files needed"
   ]
  },
  {
   "cell_type": "code",
   "execution_count": 5,
   "metadata": {},
   "outputs": [
    {
     "name": "stdout",
     "output_type": "stream",
     "text": [
      "HOME: /Users/rs/Documents/research/signac/cp2k/iodine/workspace/5d0a71cf0b09209e7fd73dbdc68e8c0a\n",
      "/Users/rs/anaconda3/envs/mosdef36/lib/python3.6/site-packages/mbuild/compound.py:1717: UserWarning: Performing energy minimization using the Open Babel package. Please refer to the documentation to find the appropriate citations for Open Babel and the GAFF force field\n",
      "  \"Open Babel and the {} force field\".format(forcefield))\n",
      "OBForceField::GenerateVelocities()\n",
      "HOME: /Users/rs/Documents/research/signac/cp2k/iodine/workspace/9afc385a608b38eef99c48ee3699f312\n",
      "/Users/rs/anaconda3/envs/mosdef36/lib/python3.6/site-packages/mbuild/compound.py:1717: UserWarning: Performing energy minimization using the Open Babel package. Please refer to the documentation to find the appropriate citations for Open Babel and the GAFF force field\n",
      "  \"Open Babel and the {} force field\".format(forcefield))\n",
      "OBForceField::GenerateVelocities()\n"
     ]
    }
   ],
   "source": [
    "!python write_xyz.py # creates an initial xyz files"
   ]
  },
  {
   "cell_type": "code",
   "execution_count": null,
   "metadata": {},
   "outputs": [],
   "source": []
  },
  {
   "cell_type": "code",
   "execution_count": 8,
   "metadata": {},
   "outputs": [
    {
     "name": "stdout",
     "output_type": "stream",
     "text": [
      "Using environment configuration: UnknownEnvironment\n",
      "Submitting cluster job 'iodine/5d0a71cf/run_config/0000/c1b9ded9186c314745b62c1ed4c8ccc4':\n",
      " - Operation: run_config(5d0a71cf0b09209e7fd73dbdc68e8c0a)\n",
      "\n",
      "\n",
      "#PBS -l walltime=00:10:00,mem=300gb,nodes=5:ppn=24\n",
      "\n",
      "module purge\n",
      "module load mkl\n",
      "module load fftw\n",
      "module load intel/cluster/2018\n",
      "\n",
      "date >> execution.log\n",
      "set -e\n",
      "set -u\n",
      "\n",
      "cd /Users/rs/Documents/research/signac/cp2k/iodine\n",
      "\n",
      "\n",
      "# run_config(5d0a71cf0b09209e7fd73dbdc68e8c0a)\n",
      "/Users/rs/anaconda3/envs/mosdef36/bin/python project.py exec run_config 5d0a71cf0b09209e7fd73dbdc68e8c0a\n",
      "\n",
      "Submitting cluster job 'iodine/9afc385a/run_config/0000/22d7ab14780123f997cbbb613083a805':\n",
      " - Operation: run_config(9afc385a608b38eef99c48ee3699f312)\n",
      "\n",
      "\n",
      "#PBS -l walltime=00:10:00,mem=300gb,nodes=5:ppn=24\n",
      "\n",
      "module purge\n",
      "module load mkl\n",
      "module load fftw\n",
      "module load intel/cluster/2018\n",
      "\n",
      "date >> execution.log\n",
      "set -e\n",
      "set -u\n",
      "\n",
      "cd /Users/rs/Documents/research/signac/cp2k/iodine\n",
      "\n",
      "\n",
      "# run_config(9afc385a608b38eef99c48ee3699f312)\n",
      "/Users/rs/anaconda3/envs/mosdef36/bin/python project.py exec run_config 9afc385a608b38eef99c48ee3699f312\n",
      "\n"
     ]
    }
   ],
   "source": [
    "! python project.py submit --pretend # this is for the submission on cluster, look into templates/script.sh to change according to your needs"
   ]
  },
  {
   "cell_type": "code",
   "execution_count": null,
   "metadata": {},
   "outputs": [],
   "source": []
  }
 ],
 "metadata": {
  "kernelspec": {
   "display_name": "Python 3",
   "language": "python",
   "name": "python3"
  },
  "language_info": {
   "codemirror_mode": {
    "name": "ipython",
    "version": 3
   },
   "file_extension": ".py",
   "mimetype": "text/x-python",
   "name": "python",
   "nbconvert_exporter": "python",
   "pygments_lexer": "ipython3",
   "version": "3.6.7"
  }
 },
 "nbformat": 4,
 "nbformat_minor": 2
}
